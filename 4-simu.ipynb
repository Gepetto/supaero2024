{
 "cells": [
  {
   "cell_type": "markdown",
   "id": "4b08843e-22d6-470b-8a00-5816543f5745",
   "metadata": {},
   "source": [
    "# Dynamics: simulation and control\n",
    "This notebook focuses on the simulation of polyarticulated systems, with final exercices where simple control laws have to be designed. The first part deals with collision detection using the hppfcl module of pinocchio. We then build a complete simulation engine for rigid unilateral contacts. "
   ]
  },
  {
   "cell_type": "code",
   "execution_count": 1,
   "id": "73d0f647-c9b2-46fd-8d3c-30ab56730076",
   "metadata": {},
   "outputs": [
    {
     "name": "stdout",
     "output_type": "stream",
     "text": [
      "NB: as for all the tutorials, a magic command %do_not_load is introduced to hide\n",
      "    the solutions to some questions. Change it for %load if you want to see (and\n",
      "    execute) the solution.\n"
     ]
    }
   ],
   "source": [
    "import gepetuto.magic"
   ]
  },
  {
   "cell_type": "markdown",
   "id": "4b518ada-8e3a-4ca3-a723-573b3a08dab7",
   "metadata": {},
   "source": [
    "## Set up"
   ]
  },
  {
   "cell_type": "markdown",
   "id": "17cd2485-7c55-4b12-bde3-54c9618de471",
   "metadata": {},
   "source": [
    "We will use several models in this tutorial:\n",
    "- a simple scene with 3 convex objects (buildSceneThreeBodies)\n",
    "- a variation of this first scene with more objects and walls (buildScenePillsBox)\n",
    "- a stack of cubes of various size (buildSceneCubes)\n",
    "- a robot hand"
   ]
  },
  {
   "cell_type": "code",
   "execution_count": 2,
   "id": "f0ad858f-7312-43c8-9a3e-082b7b5ce34b",
   "metadata": {},
   "outputs": [],
   "source": [
    "from tp4.scenes import buildSceneThreeBodies, buildScenePillsBox, buildSceneCubes"
   ]
  },
  {
   "cell_type": "markdown",
   "id": "3530cb9f-3683-4e3f-8797-2974abf7a7ce",
   "metadata": {},
   "source": [
    "We rely on the HPP-FCL module of Pinocchio, which compute collision between geometries."
   ]
  },
  {
   "cell_type": "code",
   "execution_count": 3,
   "id": "6aa4d346-f6bd-4abf-b726-9244f34a0b8b",
   "metadata": {},
   "outputs": [],
   "source": [
    "import hppfcl\n",
    "import pinocchio as pin\n",
    "import numpy as np\n",
    "import time\n",
    "from supaero2024.meshcat_viewer_wrapper import MeshcatVisualizer\n",
    "from tp4 import compatibility"
   ]
  },
  {
   "cell_type": "markdown",
   "id": "41615ac1-066c-4053-9dc6-3b32bec220a6",
   "metadata": {},
   "source": [
    "## A basic example of collisions"
   ]
  },
  {
   "cell_type": "markdown",
   "id": "13f95e22-d485-455a-bcb1-b1839c75cdba",
   "metadata": {},
   "source": [
    "The goad of this section is to introduce a simple example of collision distances between bodies, and the underlying notions of witness points and segment and normal direction.\n",
    "\n",
    "Let's build a simple scene with 3 objects and display their proximity."
   ]
  },
  {
   "cell_type": "code",
   "execution_count": 4,
   "id": "ea1e9b79-8d99-40a1-b32a-9a5ede9c9ed5",
   "metadata": {},
   "outputs": [
    {
     "name": "stdout",
     "output_type": "stream",
     "text": [
      "*** You asked to start meshcat \"classically\" in tcp://127.0.0.1:6000\n",
      "*** Did you start meshcat manually (meshcat-server)\n",
      "Wrapper tries to connect to server <tcp://127.0.0.1:6000>\n",
      "You can open the visualizer by visiting the following URL:\n",
      "http://127.0.0.1:7000/static/\n"
     ]
    }
   ],
   "source": [
    "# %load tp4/generated/example_display_witness_build\n",
    "# Build a scene\n",
    "model,geom_model = buildSceneThreeBodies()\n",
    "data = model.createData()\n",
    "geom_data = geom_model.createData()\n",
    "\n",
    "# Start meshcat\n",
    "viz = MeshcatVisualizer(model=model, collision_model=geom_model,\n",
    "                        visual_model=geom_model)\n"
   ]
  },
  {
   "cell_type": "code",
   "execution_count": 5,
   "id": "8c46cca4-e0e1-4237-8491-ef294aa49b8a",
   "metadata": {},
   "outputs": [],
   "source": [
    "q=pin.randomConfiguration(model)\n",
    "viz.display(q)"
   ]
  },
  {
   "cell_type": "code",
   "execution_count": 6,
   "id": "eb423930-ee1a-4e6a-9c7f-558778e7a8ed",
   "metadata": {},
   "outputs": [
    {
     "data": {
      "text/html": [
       "\n",
       "            <div style=\"height: 400px; width: 100%; overflow-x: auto; overflow-y: hidden; resize: both\">\n",
       "            <iframe src=\"http://127.0.0.1:7000/static/\" style=\"width: 100%; height: 100%; border: none\"></iframe>\n",
       "            </div>\n",
       "            "
      ],
      "text/plain": [
       "<IPython.core.display.HTML object>"
      ]
     },
     "execution_count": 6,
     "metadata": {},
     "output_type": "execute_result"
    }
   ],
   "source": [
    "viz.viewer.jupyter_cell()"
   ]
  },
  {
   "cell_type": "markdown",
   "id": "0786e388-2692-42be-aa29-87d0fc8f1f16",
   "metadata": {},
   "source": [
    "We can compute the distances between the 3 objects. Let's do it and show the closest points."
   ]
  },
  {
   "cell_type": "code",
   "execution_count": 7,
   "id": "07d43c00-17fd-4a10-88ee-b169031b8181",
   "metadata": {},
   "outputs": [],
   "source": [
    "from tp4.display_witness import DisplayCollisionWitnessesInMeshcat"
   ]
  },
  {
   "cell_type": "code",
   "execution_count": 8,
   "id": "cce02cbf-b035-4b79-aaae-5b895dd87aae",
   "metadata": {},
   "outputs": [],
   "source": [
    "# %load tp4/generated/example_display_witness_witness\n",
    "# Build the viewer add-on to display the witnesses.\n",
    "mcWitnesses = DisplayCollisionWitnessesInMeshcat(viz)\n"
   ]
  },
  {
   "cell_type": "code",
   "execution_count": 9,
   "id": "ec306059-8588-44e5-bc6f-5a87e194df4b",
   "metadata": {},
   "outputs": [],
   "source": [
    "pin.computeDistances(model,data,geom_model,geom_data,q)\n",
    "mcWitnesses.displayDistances(geom_data)"
   ]
  },
  {
   "cell_type": "markdown",
   "id": "fb8350bd-2ad6-4096-99c2-5e9cad867f7f",
   "metadata": {},
   "source": [
    "Each collision pair corresponds to a pair of closets points, respectively located at the surface of the collision geometries if they are not colliding. These points are sometime called the *witness* points.\n",
    "\n",
    "The witness points are connected by the *witness* segment. This segment is normal to the two collision surfaces in the case the surface is smooth around the witness point. The normalized direction is called the collision *normal*. Its orientation is a convention (the most logical convention is to go from body 1 to body 2 of the collision pair)."
   ]
  },
  {
   "cell_type": "markdown",
   "id": "8c10fa58-6669-478d-80da-e845c3e9478b",
   "metadata": {},
   "source": [
    "Let's move the objects to better see these witness elements."
   ]
  },
  {
   "cell_type": "code",
   "execution_count": 10,
   "id": "e3286b67-e2ad-4bc4-a984-0eaf25b19cac",
   "metadata": {},
   "outputs": [],
   "source": [
    "# %load tp4/generated/example_display_witness_trajectory\n",
    "v = (np.random.rand(model.nv)*2-1)*1e-3\n",
    "r0 = [ np.linalg.norm(q[7*i:7*i+3]) for i in range(model.nq//7) ]\n",
    "for t in range(100):\n",
    "\n",
    "    # Update the robot position along an arbitrary trajectory\n",
    "    q = pin.integrate(model,q,v*10)\n",
    "    for i in range(model.nq//7):\n",
    "        q[7*i:7*i+3] *= r0[i]/np.linalg.norm(q[7*i:7*i+3])\n",
    "    viz.display(q)\n",
    "\n",
    "    # Display the witness points\n",
    "    pin.computeDistances(model,data,geom_model,geom_data,q)\n",
    "    mcWitnesses.displayDistances(geom_data)\n",
    "\n",
    "    time.sleep(.01)\n"
   ]
  },
  {
   "cell_type": "markdown",
   "id": "bf23fbaf-dad6-447d-aeea-e4fe8d345e6a",
   "metadata": {},
   "source": [
    "## Details about Pinocchio HPP-FCL \n",
    "Let's see now how to extract the contact and distance information from Pinocchio and the module HPP-FCL, and how to store this in a proper data structure."
   ]
  },
  {
   "cell_type": "markdown",
   "id": "d40fe852-9e16-4e06-a213-fb844b170098",
   "metadata": {},
   "source": [
    "### Geometry model\n",
    "The geometry model contains a set of object, each described by a name, a geometry primitive and a placement with respect to a parent joint."
   ]
  },
  {
   "cell_type": "code",
   "execution_count": 11,
   "id": "39058748-2c4c-4ac4-91fc-8874235af3d7",
   "metadata": {},
   "outputs": [
    {
     "data": {
      "text/plain": [
       "('Convex_1',\n",
       " 1,\n",
       " <hppfcl.hppfcl.Convex at 0x7f807659b840>,\n",
       "   R =\n",
       " 1 0 0\n",
       " 0 1 0\n",
       " 0 0 1\n",
       "   p = -1.18174e-05    0.0312635    0.0693724)"
      ]
     },
     "execution_count": 11,
     "metadata": {},
     "output_type": "execute_result"
    }
   ],
   "source": [
    "geom1 = geom_model.geometryObjects[0]\n",
    "geom1.name, geom1.parentJoint, geom1.geometry, geom1.placement"
   ]
  },
  {
   "cell_type": "markdown",
   "id": "e77c0968-6e81-4993-9e95-08107cf2b70c",
   "metadata": {},
   "source": [
    "In addition, we also store the pairs of geometry objects that should be considered when evaluating collisions and distances."
   ]
  },
  {
   "cell_type": "code",
   "execution_count": 12,
   "id": "5b800e76-7029-464a-a54f-01ce712410bd",
   "metadata": {},
   "outputs": [
    {
     "data": {
      "text/plain": [
       "[collision pair (0,1), collision pair (0,2), collision pair (1,2)]"
      ]
     },
     "execution_count": 12,
     "metadata": {},
     "output_type": "execute_result"
    }
   ],
   "source": [
    "list(geom_model.collisionPairs)"
   ]
  },
  {
   "cell_type": "markdown",
   "id": "1a8ca8c5-7f24-469a-aa22-0b404aba41bd",
   "metadata": {},
   "source": [
    "### HPP-FCL computeDistances and computeCollisions\n",
    "The geometry algorithms are implemented in HPP-FCL under two different sets of functions, which respectively compute the distance between bodies, and the collision between bodies.\n",
    "When computing the distance, a unique pair of witness points is produced, and the signed distance is also evaluated.\n",
    "When computing the collision, an effort is made to compute all the contact points, and early stop can be activated to reduce the algorithm cost as soon as a collision is found. \n",
    "All in all, for this initiation, both can be considered quite similarly.\n",
    "\n",
    "Both functions are parametrized by a *request* object, and write their output in a *result* object. *Request* and *result* objects are preallocated in the geometry data, one of each for each pair of collisions. If you activate or deactivate a collision pair, you have to regenerate these objects (and so if you add a new geometry object in the list). "
   ]
  },
  {
   "cell_type": "code",
   "execution_count": 13,
   "id": "f3e5096c-357f-43f1-a902-bca73cb960f9",
   "metadata": {},
   "outputs": [
    {
     "data": {
      "text/plain": [
       "(3, 3, 3)"
      ]
     },
     "execution_count": 13,
     "metadata": {},
     "output_type": "execute_result"
    }
   ],
   "source": [
    "len(geom_model.collisionPairs), len(geom_data.collisionRequests), len(geom_data.distanceResults)"
   ]
  },
  {
   "cell_type": "markdown",
   "id": "5357039c-51ea-400d-b289-06ceaa3235ff",
   "metadata": {},
   "source": [
    "The placement of the geometry objects with respect to world frame are stored in geom_data.oMg, and computed as\n",
    "$$^oM_g(q) = ^oM_i(q) ^iM_g$$\n",
    "with $^oM_g$ the placement of the object wrt world, $^oM_i$ the placement of the parent joint and $^iM_g$ the (fixed) placement of the object wrt the parent joint."
   ]
  },
  {
   "cell_type": "code",
   "execution_count": 14,
   "id": "978eeb5f-c5a6-4e08-b2a4-fb9eb5a85ceb",
   "metadata": {},
   "outputs": [
    {
     "data": {
      "text/plain": [
       "(3, 3)"
      ]
     },
     "execution_count": 14,
     "metadata": {},
     "output_type": "execute_result"
    }
   ],
   "source": [
    "len(geom_model.geometryObjects),len(geom_data.oMg)"
   ]
  },
  {
   "cell_type": "markdown",
   "id": "71102a56-755d-4612-ab62-6f17ca10a786",
   "metadata": {},
   "source": [
    "This computation is triggered by *pin.updateGeometryPlacements*, after forward kinematics as been run or by forcing the refresh of the forward kinematics."
   ]
  },
  {
   "cell_type": "code",
   "execution_count": 15,
   "id": "45b06ca0-1010-49d3-b4d5-2256a58a98e4",
   "metadata": {},
   "outputs": [],
   "source": [
    "pin.updateGeometryPlacements(model,data,geom_model,geom_data,q)"
   ]
  },
  {
   "cell_type": "markdown",
   "id": "0fc670d9-cf14-4c1e-b531-4940201083ae",
   "metadata": {},
   "source": [
    "The computation of the distances and collisions is triggered by their respective function and by default forces the kinematic update.."
   ]
  },
  {
   "cell_type": "code",
   "execution_count": 16,
   "id": "6a81a5c8-3125-449b-8d6f-f92466028c23",
   "metadata": {},
   "outputs": [],
   "source": [
    "pin.computeCollisions(model,data,geom_model,geom_data,q)\n",
    "pin.computeDistances(model,data,geom_model,geom_data,q)"
   ]
  },
  {
   "cell_type": "markdown",
   "id": "44f6dc9a-01b4-4352-a032-b198952e3510",
   "metadata": {},
   "source": [
    "These two functions actually iterate over each pair and run *pin.computeDistance* or *pin.computeCollision*, which in turn runs *hppfcl.distance* and *hppfcl.collide*. \n",
    "HPP-FCL only works with geometry placements, ignoring the kinematics and the configuration space which is provided by Pinocchio.\n",
    "All these functions have very similar signatures, and Pinocchio is mostly doing a basing wrapping around the HPP-FCL library and gently connected the forward kinematics with the collision algorithms. "
   ]
  },
  {
   "cell_type": "markdown",
   "id": "a86846c1-dbc5-49f3-a340-9fdbe8331ce6",
   "metadata": {},
   "source": [
    "### The *result* objects\n",
    "The distance result contains the pair of witness points $p_1$ and $p_2$, the normal direction pointing from $p_1$ to $p_2$ and the signed distance."
   ]
  },
  {
   "cell_type": "code",
   "execution_count": 17,
   "id": "561bb912-6d6f-498d-9bed-41688a13f800",
   "metadata": {},
   "outputs": [
    {
     "name": "stdout",
     "output_type": "stream",
     "text": [
      "p1: [ 0.13923644 -0.3030054  -0.14295444]\n",
      "p2: [ 0.12472576 -0.13402196 -0.13027373]\n",
      "n: [-0.08531745  0.99356029  0.07455791]\n",
      "dist: 0.17007869445235735\n",
      "check: [-1.56125113e-17 -1.30104261e-18  0.00000000e+00]\n"
     ]
    }
   ],
   "source": [
    "d = geom_data.distanceResults[0]\n",
    "print(\"p1:\",d.getNearestPoint1())\n",
    "print(\"p2:\",d.getNearestPoint2())\n",
    "print(\"n:\",d.normal)\n",
    "print(\"dist:\",d.min_distance)\n",
    "print(\"check:\",np.cross(d.normal,d.getNearestPoint2()-d.getNearestPoint1())) # The two vectors are parallel."
   ]
  },
  {
   "cell_type": "markdown",
   "id": "25a31655-e464-4a1d-8380-1dcad5659d29",
   "metadata": {},
   "source": [
    "The collision object contains similar information, but can stores several witness pairs instead of a single one, or none if there is no collisions.\n",
    "The collision is decided based on a security margin, tuned in the collision request object."
   ]
  },
  {
   "cell_type": "code",
   "execution_count": 18,
   "id": "366c4117-da54-4730-97b6-da470171dd56",
   "metadata": {},
   "outputs": [
    {
     "name": "stdout",
     "output_type": "stream",
     "text": [
      "Margin: 0.0\n",
      "Number of collisions: 0\n"
     ]
    }
   ],
   "source": [
    "print('Margin:',geom_data.collisionRequests[0].security_margin)\n",
    "c = geom_data.collisionResults[0]\n",
    "print('Number of collisions:',len(c.getContacts()))"
   ]
  },
  {
   "cell_type": "markdown",
   "id": "618e1de8-bb66-4623-aa9d-70e6cf558d48",
   "metadata": {},
   "source": [
    "Now choose a configuration in collision and look at the content of this contact list."
   ]
  },
  {
   "cell_type": "code",
   "execution_count": 19,
   "id": "2229503f-e182-4318-bd27-c80de57a60d9",
   "metadata": {},
   "outputs": [],
   "source": [
    "# %do_not_load_snippet tp4/generated/example_find_collisions_find\n",
    "for trial in range(1000):\n",
    "    q = pin.randomConfiguration(model)\n",
    "    col = pin.computeCollisions(model,data,geom_model,geom_data,q)\n",
    "    if col: break\n",
    "assert(col)\n",
    "viz.display(q)\n"
   ]
  },
  {
   "cell_type": "code",
   "execution_count": 20,
   "id": "834c88c9-6242-4a8c-8281-af03e75e0528",
   "metadata": {},
   "outputs": [
    {
     "name": "stdout",
     "output_type": "stream",
     "text": [
      "['b1', 'b2', 'getNearestPoint1', 'getNearestPoint2', 'normal', 'o1', 'o2', 'penetration_depth', 'pos']\n"
     ]
    }
   ],
   "source": [
    "# %load tp4/generated/example_find_collisions_print\n",
    "for pairId,c in enumerate(geom_data.collisionResults):\n",
    "    if len(c.getContacts())>0:\n",
    "        contact = c.getContact(0)\n",
    "        print([ n for n in dir(contact) if '__' not in n])\n",
    "        break\n"
   ]
  },
  {
   "cell_type": "markdown",
   "id": "5b7fb42b-d043-422b-be81-df355087a3c5",
   "metadata": {},
   "source": [
    "## From collision detection to contact model\n",
    "\n",
    "### The maths\n",
    "Once the collision are detected, we have to decide the model of the contact interaction that will happen at this location. It can range from a fixed 3D contact (bilateral), a sliding contact enforcing only constraints along the normal direction, a frictional contact or even a full 6D contact with no degree of freedom between the two corresponding bodies (and many other models you can imagine).\n",
    "To describe the contact model, we best formulate it in a reference frame at the contact location. Here we arbitrarily decide to align the *z* direction of the contact frame with the normal direction (oriented from body 1 to body 2) and set the two other *x* and *y* directions to any arbitrary orthogonal basis of the tangential plane. If the collision distance is exactly 0 (which will never be), the center of the frame should be at the contact point. In practice, we can define either two contact frames at each witness point or a single one at the middle point between both. Since the contact distance will never be large, it should be approximately the same and both solutions are acceptable in practice."
   ]
  },
  {
   "cell_type": "code",
   "execution_count": 22,
   "id": "4d20a527-ac57-4d2d-9a1a-16a9f95ccaba",
   "metadata": {},
   "outputs": [],
   "source": [
    "OC1 = contact.getNearestPoint1()\n",
    "OC2 = contact.getNearestPoint2()\n",
    "normal = contact.normal"
   ]
  },
  {
   "cell_type": "markdown",
   "id": "134b4184-bae0-415c-b7c7-6193f0a7d279",
   "metadata": {},
   "source": [
    "From these vectors, build the two contact frames $^oM_{c1}$ and $^oM_{c2}$ centered in $c_1$  and $c_2$ and with *z* axis aligned with the *normal* direction. You can for example use the pin.Quaternion.FromTwoVectors(v1,v2) function, which returns a rotation $r(.)$ such that $r(v_1)=v_2$ ie that transforms $v_1$ into $v_2$ (here we want to transform the *z* axis $z=[0,0,1]$ into the *normal* vector)."
   ]
  },
  {
   "cell_type": "code",
   "execution_count": 24,
   "id": "21241041-5ef2-49c1-ba5c-6629c934759a",
   "metadata": {},
   "outputs": [],
   "source": [
    "# %load tp4/generated/create_rigid_contact_models_for_hppfcl_frames\n",
    "pair = geom_model.collisionPairs[pairId]\n",
    "gid1,gid2 = pair.first,pair.second\n",
    "g1 = geom_model.geometryObjects[gid1]\n",
    "g2 = geom_model.geometryObjects[gid2]\n",
    "jid1 = g1.parentJoint \n",
    "jid2 = g2.parentJoint \n",
    "oMj1 = data.oMi[jid1]\n",
    "oMj2 = data.oMi[jid2]\n",
    "\n",
    "# Compute translation and rotation of the contact placements\n",
    "# If dist=0, both placements are identical (and should be somehow close\n",
    "# when dist is reasonibly small).\n",
    "quat = pin.Quaternion.FromTwoVectors(pin.ZAxis,normal) # orientation of the contact frame wrt world\n",
    "assert(np.isclose(quat.norm(),1))\n",
    "oMc1 = pin.SE3(quat.matrix(),OC1) # Placement of first contact frame in world\n",
    "oMc2 = pin.SE3(quat.matrix(),OC2) # Placement of second contact frame in world\n"
   ]
  },
  {
   "cell_type": "markdown",
   "id": "1be01ed8-bde7-4190-a4a8-818c71bec31f",
   "metadata": {},
   "source": [
    "The pin.RigidConstaintModel class in Pinocchio conveniently stores these contact quantities: the two parent joints that carries the corresponding colliding bodies, the placements of the contact frames with respect to the joint frames $^{j1}M_{c1}$, $^{jc}M_{c2}$, and a flag specifying if the contact model is 3D (point contact) or 6D (surface contact), which will later be convenient to evaluate the corresponding Jacobian."
   ]
  },
  {
   "cell_type": "code",
   "execution_count": 27,
   "id": "a9e03990-39fd-4d3a-8621-d0db52b6432f",
   "metadata": {},
   "outputs": [],
   "source": [
    "# %load tp4/generated/create_rigid_contact_models_for_hppfcl_model\n",
    "contact_model = pin.RigidConstraintModel(\n",
    "        pin.ContactType.CONTACT_3D,\n",
    "        model,\n",
    "        jid1,oMj1.inverse()*oMc1,\n",
    "        jid2,oMj2.inverse()*oMc2,\n",
    "        pin.LOCAL)\n"
   ]
  },
  {
   "cell_type": "code",
   "execution_count": 28,
   "id": "e1620531-4dda-40d0-9469-db87263cce0b",
   "metadata": {},
   "outputs": [],
   "source": [
    "contact_data = contact_model.createData()"
   ]
  },
  {
   "cell_type": "markdown",
   "id": "f3ab5875-8d73-442f-9ff0-9e964b035584",
   "metadata": {},
   "source": [
    "### Creation wrapper\n",
    "This code has been conveniently wrapped in a dedicated function, that takes all the collision or distance results and returns a list of contact models."
   ]
  },
  {
   "cell_type": "code",
   "execution_count": 32,
   "id": "af53a163-e1e6-4f18-8e7a-8ea5880694ab",
   "metadata": {},
   "outputs": [],
   "source": [
    "from tp4.create_rigid_contact_models_for_hppfcl import createContactModelsFromCollisions,createContactModelsFromDistances"
   ]
  },
  {
   "cell_type": "code",
   "execution_count": 35,
   "id": "380d3dd5-740a-4142-bf27-3ca9fd9eeccc",
   "metadata": {},
   "outputs": [],
   "source": [
    "# %load tp4/generated/create_rigid_contact_models_for_hppfcl_example\n",
    "pin.computeCollisions(model,data,geom_model,geom_data,q,False)\n",
    "contact_models = createContactModelsFromCollisions(model,data,geom_model,geom_data)\n",
    "contact_datas = [ cm.createData() for cm in contact_models ]\n",
    "\n",
    "pin.computeDistances(model,data,geom_model,geom_data,q)\n",
    "contact_models = createContactModelsFromDistances(model,data,geom_model,geom_data,\n",
    "                                                       threshold=10) # threshold in meter\n",
    "contact_datas = [ cm.createData() for cm in contact_models ]\n"
   ]
  },
  {
   "cell_type": "markdown",
   "id": "b9593582-6095-4c11-a69b-228402cb6635",
   "metadata": {},
   "source": [
    "### Display the contact models\n",
    "A robot description (like the robot URDF) typically describes two sets of geometries: a first set, accurate, detailled and texture fore visualization and non real-time evaluations (called the *visual* model); a second one, less detailed, sometimes approximated or convexified, for efficient computations (often called the *collision* model).\n",
    "\n",
    "Let's display in the 3D viewer the contact models with red contact patches (disks) located at the center of the contact frames and aligned with the *x-y* contact plane. \n",
    "To make it easy to render, we will put these patches in the *visual* model of the system. \n",
    "A fix set of patches is preallocated at initialization (and hidden or displaced far from the scene center when not useful). When contacts are created, the patches are revealed and properly place for rendering.\n",
    "The functions in the file display_collision_patches have be written for that."
   ]
  },
  {
   "cell_type": "code",
   "execution_count": 38,
   "id": "12e9c358-cf30-4fd9-a683-cad9b0c630d6",
   "metadata": {},
   "outputs": [],
   "source": [
    "from tp4.display_collision_patches import preallocateVisualObjects,updateVisualObjects"
   ]
  },
  {
   "cell_type": "code",
   "execution_count": 39,
   "id": "471e4424-bdbc-4aa9-a37a-6687d1c1ca4d",
   "metadata": {},
   "outputs": [
    {
     "name": "stdout",
     "output_type": "stream",
     "text": [
      "*** You asked to start meshcat \"classically\" in tcp://127.0.0.1:6000\n",
      "*** Did you start meshcat manually (meshcat-server)\n",
      "Wrapper tries to connect to server <tcp://127.0.0.1:6000>\n",
      "You can open the visualizer by visiting the following URL:\n",
      "http://127.0.0.1:7000/static/\n"
     ]
    }
   ],
   "source": [
    "# %load tp4/generated/example_display_collision_patches_create\n",
    "# Obtained by simply copying the collision model\n",
    "visual_model = geom_model.copy()\n",
    "preallocateVisualObjects(visual_model)\n",
    "\n",
    "# Start meshcat\n",
    "viz = MeshcatVisualizer(model=model, collision_model=geom_model,\n",
    "                        visual_model=visual_model)\n"
   ]
  },
  {
   "cell_type": "code",
   "execution_count": 40,
   "id": "5ef3e4c3-5ef5-47df-97dd-970e710dfe06",
   "metadata": {},
   "outputs": [
    {
     "data": {
      "text/html": [
       "\n",
       "            <div style=\"height: 400px; width: 100%; overflow-x: auto; overflow-y: hidden; resize: both\">\n",
       "            <iframe src=\"http://127.0.0.1:7000/static/\" style=\"width: 100%; height: 100%; border: none\"></iframe>\n",
       "            </div>\n",
       "            "
      ],
      "text/plain": [
       "<IPython.core.display.HTML object>"
      ]
     },
     "execution_count": 40,
     "metadata": {},
     "output_type": "execute_result"
    }
   ],
   "source": [
    "viz.viewer.jupyter_cell()"
   ]
  },
  {
   "cell_type": "code",
   "execution_count": 42,
   "id": "b9328dfd-db74-4940-a923-e8113e4e83a1",
   "metadata": {},
   "outputs": [],
   "source": [
    "# %load tp4/generated/example_display_collision_patches_display\n",
    "updateVisualObjects(model,data,contact_models,contact_datas,visual_model,viz)\n",
    "viz.display(q)\n"
   ]
  },
  {
   "cell_type": "code",
   "execution_count": null,
   "id": "3f82f9d3-cf71-4d1a-bd7a-ba1cd53ffa95",
   "metadata": {},
   "outputs": [],
   "source": []
  },
  {
   "cell_type": "code",
   "execution_count": null,
   "id": "9133b600-a4b7-482f-86f4-e50968405a21",
   "metadata": {},
   "outputs": [],
   "source": []
  },
  {
   "cell_type": "code",
   "execution_count": null,
   "id": "ddf6c029-3b70-43be-9d58-bf28fd152aaa",
   "metadata": {},
   "outputs": [],
   "source": []
  },
  {
   "cell_type": "code",
   "execution_count": null,
   "id": "3b36a5a5-c123-4fdd-8621-b6f5681ebee6",
   "metadata": {},
   "outputs": [],
   "source": []
  },
  {
   "cell_type": "code",
   "execution_count": null,
   "id": "4281698d-ad4b-4519-8b69-62db9eabec31",
   "metadata": {},
   "outputs": [],
   "source": []
  },
  {
   "cell_type": "code",
   "execution_count": null,
   "id": "5887d564-28be-44d3-91d6-fc6a0cdb2633",
   "metadata": {},
   "outputs": [],
   "source": []
  },
  {
   "cell_type": "code",
   "execution_count": null,
   "id": "d5daaecd-e03e-4279-84ad-b65e2ba73946",
   "metadata": {},
   "outputs": [],
   "source": []
  },
  {
   "cell_type": "code",
   "execution_count": null,
   "id": "44698959-3f7f-4f41-8fd3-aa84bec21bd0",
   "metadata": {},
   "outputs": [],
   "source": []
  },
  {
   "cell_type": "code",
   "execution_count": null,
   "id": "3585bdd1-c846-426e-9a54-d003d6814eb1",
   "metadata": {},
   "outputs": [],
   "source": []
  },
  {
   "cell_type": "code",
   "execution_count": null,
   "id": "d37c2014-af04-4db8-b159-2f65b4e02e30",
   "metadata": {},
   "outputs": [],
   "source": []
  },
  {
   "cell_type": "code",
   "execution_count": null,
   "id": "9cb3fa62-81f3-437c-99ac-91e89ff0ee7a",
   "metadata": {},
   "outputs": [],
   "source": []
  },
  {
   "cell_type": "code",
   "execution_count": null,
   "id": "7cb3b246-f13b-4289-8930-1995a62fe75e",
   "metadata": {},
   "outputs": [],
   "source": []
  },
  {
   "cell_type": "code",
   "execution_count": null,
   "id": "f5038043-1257-4ab6-8059-e9df91b61b84",
   "metadata": {},
   "outputs": [],
   "source": []
  },
  {
   "cell_type": "code",
   "execution_count": null,
   "id": "bef3f77c-f77c-48b3-ae33-cb2d8d3ab503",
   "metadata": {},
   "outputs": [],
   "source": []
  },
  {
   "cell_type": "code",
   "execution_count": null,
   "id": "c4be91b2-09da-4f16-ba4a-0f2afb836164",
   "metadata": {},
   "outputs": [],
   "source": []
  },
  {
   "cell_type": "markdown",
   "id": "cc94b68a-ac3b-49f2-8938-b7363022deee",
   "metadata": {},
   "source": []
  }
 ],
 "metadata": {
  "kernelspec": {
   "display_name": "Python 3 (ipykernel)",
   "language": "python",
   "name": "python3"
  },
  "language_info": {
   "codemirror_mode": {
    "name": "ipython",
    "version": 3
   },
   "file_extension": ".py",
   "mimetype": "text/x-python",
   "name": "python",
   "nbconvert_exporter": "python",
   "pygments_lexer": "ipython3",
   "version": "3.10.12"
  }
 },
 "nbformat": 4,
 "nbformat_minor": 5
}
