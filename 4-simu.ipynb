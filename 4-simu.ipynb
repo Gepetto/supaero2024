{
 "cells": [
  {
   "cell_type": "markdown",
   "id": "4b08843e-22d6-470b-8a00-5816543f5745",
   "metadata": {},
   "source": [
    "# Dynamics: simulation and control\n",
    "This notebook focuses on the simulation of polyarticulated systems, with final exercices where simple control laws have to be designed. The first part deals with collision detection using the hppfcl module of pinocchio. We then build a complete simulation engine for rigid unilateral contacts. "
   ]
  },
  {
   "cell_type": "code",
   "execution_count": 1,
   "id": "73d0f647-c9b2-46fd-8d3c-30ab56730076",
   "metadata": {},
   "outputs": [
    {
     "name": "stdout",
     "output_type": "stream",
     "text": [
      "NB: as for all the tutorials, a magic command %do_not_load is introduced to hide\n",
      "    the solutions to some questions. Change it for %load if you want to see (and\n",
      "    execute) the solution.\n"
     ]
    }
   ],
   "source": [
    "import gepetuto.magic"
   ]
  },
  {
   "cell_type": "markdown",
   "id": "4b518ada-8e3a-4ca3-a723-573b3a08dab7",
   "metadata": {},
   "source": [
    "## Set up"
   ]
  },
  {
   "cell_type": "markdown",
   "id": "17cd2485-7c55-4b12-bde3-54c9618de471",
   "metadata": {},
   "source": [
    "We will use several models in this tutorial:\n",
    "- a simple scene with 3 convex objects (buildSceneThreeBodies)\n",
    "- a variation of this first scene with more objects and walls (buildScenePillsBox)\n",
    "- a stack of cubes of various size (buildSceneCubes)\n",
    "- a robot hand"
   ]
  },
  {
   "cell_type": "code",
   "execution_count": 2,
   "id": "f0ad858f-7312-43c8-9a3e-082b7b5ce34b",
   "metadata": {},
   "outputs": [],
   "source": [
    "from tp4.scenes import buildSceneThreeBodies, buildScenePillsBox, buildSceneCubes"
   ]
  },
  {
   "cell_type": "markdown",
   "id": "3530cb9f-3683-4e3f-8797-2974abf7a7ce",
   "metadata": {},
   "source": [
    "We rely on the HPP-FCL module of Pinocchio, which compute collision between geometries."
   ]
  },
  {
   "cell_type": "code",
   "execution_count": 3,
   "id": "6aa4d346-f6bd-4abf-b726-9244f34a0b8b",
   "metadata": {},
   "outputs": [],
   "source": [
    "import hppfcl\n",
    "import pinocchio as pin\n",
    "import numpy as np\n",
    "import time\n",
    "from supaero2024.meshcat_viewer_wrapper import MeshcatVisualizer"
   ]
  },
  {
   "cell_type": "markdown",
   "id": "41615ac1-066c-4053-9dc6-3b32bec220a6",
   "metadata": {},
   "source": [
    "## Starting with collisions"
   ]
  },
  {
   "cell_type": "markdown",
   "id": "13f95e22-d485-455a-bcb1-b1839c75cdba",
   "metadata": {},
   "source": [
    "The goad of this section is to introduce a simple example of collision distances between bodies, and the underlying notions of witness points and segment and normal direction.\n",
    "\n",
    "Let's build a simple scene with 3 objects and display their proximity."
   ]
  },
  {
   "cell_type": "code",
   "execution_count": 4,
   "id": "ea1e9b79-8d99-40a1-b32a-9a5ede9c9ed5",
   "metadata": {},
   "outputs": [
    {
     "name": "stdout",
     "output_type": "stream",
     "text": [
      "*** You asked to start meshcat \"classically\" in tcp://127.0.0.1:6000\n",
      "*** Did you start meshcat manually (meshcat-server)\n",
      "Wrapper tries to connect to server <tcp://127.0.0.1:6000>\n",
      "You can open the visualizer by visiting the following URL:\n",
      "http://127.0.0.1:7000/static/\n"
     ]
    }
   ],
   "source": [
    "# %load tp4/generated/example_display_witness_build\n",
    "# Build a scene\n",
    "model,geom_model = buildSceneThreeBodies()\n",
    "data = model.createData()\n",
    "geom_data = geom_model.createData()\n",
    "\n",
    "# Start meshcat\n",
    "viz = MeshcatVisualizer(model=model, collision_model=geom_model,\n",
    "                        visual_model=geom_model,url=\"classical\")\n"
   ]
  },
  {
   "cell_type": "code",
   "execution_count": 5,
   "id": "8c46cca4-e0e1-4237-8491-ef294aa49b8a",
   "metadata": {},
   "outputs": [],
   "source": [
    "q=pin.randomConfiguration(model)\n",
    "viz.display(q)"
   ]
  },
  {
   "cell_type": "code",
   "execution_count": 6,
   "id": "eb423930-ee1a-4e6a-9c7f-558778e7a8ed",
   "metadata": {},
   "outputs": [
    {
     "data": {
      "text/html": [
       "\n",
       "            <div style=\"height: 400px; width: 100%; overflow-x: auto; overflow-y: hidden; resize: both\">\n",
       "            <iframe src=\"http://127.0.0.1:7000/static/\" style=\"width: 100%; height: 100%; border: none\"></iframe>\n",
       "            </div>\n",
       "            "
      ],
      "text/plain": [
       "<IPython.core.display.HTML object>"
      ]
     },
     "execution_count": 6,
     "metadata": {},
     "output_type": "execute_result"
    }
   ],
   "source": [
    "viz.viewer.jupyter_cell()"
   ]
  },
  {
   "cell_type": "markdown",
   "id": "0786e388-2692-42be-aa29-87d0fc8f1f16",
   "metadata": {},
   "source": [
    "We can compute the distances between the 3 objects. Let's do it and show the closest points."
   ]
  },
  {
   "cell_type": "code",
   "execution_count": 7,
   "id": "07d43c00-17fd-4a10-88ee-b169031b8181",
   "metadata": {},
   "outputs": [],
   "source": [
    "from tp4.display_witness import DisplayCollisionWitnessesInMeshcat"
   ]
  },
  {
   "cell_type": "code",
   "execution_count": 8,
   "id": "cce02cbf-b035-4b79-aaae-5b895dd87aae",
   "metadata": {},
   "outputs": [],
   "source": [
    "# %load tp4/generated/example_display_witness_witness\n",
    "# Build the viewer add-on to display the witnesses.\n",
    "mcWitnesses = DisplayCollisionWitnessesInMeshcat(viz)\n"
   ]
  },
  {
   "cell_type": "code",
   "execution_count": 9,
   "id": "ec306059-8588-44e5-bc6f-5a87e194df4b",
   "metadata": {},
   "outputs": [],
   "source": [
    "pin.computeDistances(model,data,geom_model,geom_data,q)\n",
    "mcWitnesses.displayDistances(geom_data)"
   ]
  },
  {
   "cell_type": "markdown",
   "id": "fb8350bd-2ad6-4096-99c2-5e9cad867f7f",
   "metadata": {},
   "source": [
    "Each collision pair corresponds to a pair of closets points, respectively located at the surface of the collision geometries if they are not colliding. These points are sometime called the *witness* points.\n",
    "\n",
    "The witness points are connected by the *witness* segment. This segment is normal to the two collision surfaces in the case the surface is smooth around the witness point. The normalized direction is called the collision *normal*. Its orientation is a convention (the most logical convention is to go from body 1 to body 2 of the collision pair)."
   ]
  },
  {
   "cell_type": "markdown",
   "id": "8c10fa58-6669-478d-80da-e845c3e9478b",
   "metadata": {},
   "source": [
    "Let's move the objects to better see these witness elements."
   ]
  },
  {
   "cell_type": "code",
   "execution_count": 10,
   "id": "e3286b67-e2ad-4bc4-a984-0eaf25b19cac",
   "metadata": {},
   "outputs": [],
   "source": [
    "# %load tp4/generated/example_display_witness_trajectory\n",
    "v = (np.random.rand(model.nv)*2-1)*1e-3\n",
    "r0 = [ np.linalg.norm(q[7*i:7*i+3]) for i in range(model.nq//7) ]\n",
    "for t in range(100):\n",
    "\n",
    "    # Update the robot position along an arbitrary trajectory\n",
    "    q = pin.integrate(model,q,v*10)\n",
    "    for i in range(model.nq//7):\n",
    "        q[7*i:7*i+3] *= r0[i]/np.linalg.norm(q[7*i:7*i+3])\n",
    "    viz.display(q)\n",
    "\n",
    "    # Display the witness points\n",
    "    pin.computeDistances(model,data,geom_model,geom_data,q)\n",
    "    mcWitnesses.displayDistances(geom_data)\n",
    "\n",
    "    time.sleep(.01)\n"
   ]
  },
  {
   "cell_type": "markdown",
   "id": "bf23fbaf-dad6-447d-aeea-e4fe8d345e6a",
   "metadata": {},
   "source": [
    "## Details about Pinocchio HPP-FCL "
   ]
  },
  {
   "cell_type": "code",
   "execution_count": null,
   "id": "30249a3f-b0b8-4f12-93b6-4442cadfca67",
   "metadata": {},
   "outputs": [],
   "source": []
  },
  {
   "cell_type": "code",
   "execution_count": null,
   "id": "d15b32a7-2b50-478e-8509-377b7170124a",
   "metadata": {},
   "outputs": [],
   "source": []
  }
 ],
 "metadata": {
  "kernelspec": {
   "display_name": "Python 3 (ipykernel)",
   "language": "python",
   "name": "python3"
  },
  "language_info": {
   "codemirror_mode": {
    "name": "ipython",
    "version": 3
   },
   "file_extension": ".py",
   "mimetype": "text/x-python",
   "name": "python",
   "nbconvert_exporter": "python",
   "pygments_lexer": "ipython3",
   "version": "3.10.12"
  }
 },
 "nbformat": 4,
 "nbformat_minor": 5
}
